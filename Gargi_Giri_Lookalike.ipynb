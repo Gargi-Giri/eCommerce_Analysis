{
 "cells": [
  {
   "cell_type": "code",
   "execution_count": 1,
   "metadata": {
    "vscode": {
     "languageId": "plaintext"
    }
   },
   "outputs": [
    {
     "name": "stdout",
     "output_type": "stream",
     "text": [
      "  CustomerID Lookalike_1  Similarity_1 Lookalike_2  Similarity_2 Lookalike_3  \\\n",
      "0      C0001       C0097      0.547723       C0194      0.469668       C0199   \n",
      "1      C0002       C0030      0.372822       C0091      0.333914       C0071   \n",
      "2      C0003       C0134      0.519947       C0181      0.517597       C0144   \n",
      "3      C0004       C0070      0.498888       C0132      0.438178       C0063   \n",
      "4      C0005       C0096      0.648204       C0055      0.514496       C0064   \n",
      "\n",
      "   Similarity_3  \n",
      "0      0.438178  \n",
      "1      0.329914  \n",
      "2      0.400000  \n",
      "3      0.336067  \n",
      "4      0.332877  \n"
     ]
    }
   ],
   "source": [
    "import pandas as pd\n",
    "from sklearn.metrics.pairwise import cosine_similarity\n",
    "import numpy as np\n",
    "\n",
    "# Load data\n",
    "customers_df = pd.read_csv(\"Customers.csv\")\n",
    "products_df = pd.read_csv(\"Products.csv\")\n",
    "transactions_df = pd.read_csv(\"Transactions.csv\")\n",
    "\n",
    "# Clean column names\n",
    "customers_df.columns = customers_df.columns.str.strip()\n",
    "products_df.columns = products_df.columns.str.strip()\n",
    "transactions_df.columns = transactions_df.columns.str.strip()\n",
    "\n",
    "# Check if CustomerID exists in all DataFrames\n",
    "assert 'CustomerID' in customers_df.columns, \"CustomerID missing in Customers.csv\"\n",
    "assert 'CustomerID' in transactions_df.columns, \"CustomerID missing in Transactions.csv\"\n",
    "\n",
    "# Aggregate transaction data\n",
    "transaction_features = transactions_df.groupby('CustomerID').agg({\n",
    "    'TotalValue': 'sum',\n",
    "    'Quantity': 'sum'\n",
    "}).reset_index()\n",
    "\n",
    "# Merge with customer profiles\n",
    "customer_profiles = pd.merge(customers_df, transaction_features, on='CustomerID', how='left').fillna(0)\n",
    "\n",
    "# Create a customer-product purchase matrix\n",
    "product_category_matrix = pd.pivot_table(transactions_df, index='CustomerID', columns='ProductID', values='Quantity', aggfunc='sum', fill_value=0)\n",
    "\n",
    "# Check if we have enough data for similarity calculation\n",
    "if product_category_matrix.shape[0] < 2:\n",
    "    raise ValueError(\"Not enough customer data for similarity computation.\")\n",
    "\n",
    "# Compute similarity matrix\n",
    "similarity_matrix = cosine_similarity(product_category_matrix)\n",
    "customer_indices = list(product_category_matrix.index)\n",
    "\n",
    "# Function to get top 3 similar customers\n",
    "def get_lookalikes(customer_id, num_lookalikes=3):\n",
    "    if customer_id not in customer_indices:\n",
    "        return []  # No transactions, can't compute similarity\n",
    "    \n",
    "    customer_idx = customer_indices.index(customer_id)\n",
    "    similarity_scores = similarity_matrix[customer_idx]\n",
    "    \n",
    "    # Sort and get top similar customers (excluding self)\n",
    "    similar_indices = np.argsort(similarity_scores)[::-1][1:num_lookalikes+1]\n",
    "    return [(customer_indices[i], similarity_scores[i]) for i in similar_indices]\n",
    "\n",
    "# Get lookalikes for the first 20 customers\n",
    "lookalike_data = []\n",
    "for customer_id in customers_df['CustomerID'][:20]:\n",
    "    lookalikes = get_lookalikes(customer_id)\n",
    "    \n",
    "    if len(lookalikes) < 3:\n",
    "        lookalikes += [(\"N/A\", 0)] * (3 - len(lookalikes))  # Pad missing values\n",
    "\n",
    "    lookalike_data.append([customer_id] + [item for sublist in lookalikes for item in sublist])\n",
    "\n",
    "# Create and save DataFrame\n",
    "lookalike_df = pd.DataFrame(lookalike_data, columns=['CustomerID', 'Lookalike_1', 'Similarity_1', 'Lookalike_2', 'Similarity_2', 'Lookalike_3', 'Similarity_3'])\n",
    "lookalike_df.to_csv('Lookalike.csv', index=False)\n",
    "\n",
    "# Display first few rows\n",
    "print(lookalike_df.head())\n"
   ]
  },
  {
   "cell_type": "code",
   "execution_count": null,
   "metadata": {},
   "outputs": [],
   "source": []
  }
 ],
 "metadata": {
  "kernelspec": {
   "display_name": "Python 3 (ipykernel)",
   "language": "python",
   "name": "python3"
  },
  "language_info": {
   "codemirror_mode": {
    "name": "ipython",
    "version": 3
   },
   "file_extension": ".py",
   "mimetype": "text/x-python",
   "name": "python",
   "nbconvert_exporter": "python",
   "pygments_lexer": "ipython3",
   "version": "3.13.1"
  }
 },
 "nbformat": 4,
 "nbformat_minor": 4
}
